{
 "cells": [
  {
   "cell_type": "markdown",
   "id": "6313b4a7",
   "metadata": {},
   "source": [
    "# DSW Assignment 2"
   ]
  },
  {
   "cell_type": "markdown",
   "id": "59a139b4",
   "metadata": {},
   "source": [
    "##### Yue (Billy) Liu (yl992)"
   ]
  },
  {
   "cell_type": "code",
   "execution_count": 1,
   "id": "2da17d9b",
   "metadata": {},
   "outputs": [],
   "source": [
    "import pandas as pd\n",
    "import numpy as np\n",
    "from sklearn.metrics.pairwise import cosine_similarity\n",
    "from numpy.linalg import svd\n",
    "from scipy.sparse.linalg import svds"
   ]
  },
  {
   "cell_type": "markdown",
   "id": "0fe2536a",
   "metadata": {},
   "source": [
    "## Part A"
   ]
  },
  {
   "cell_type": "code",
   "execution_count": 2,
   "id": "5aab71e7",
   "metadata": {},
   "outputs": [],
   "source": [
    "rating = pd.read_csv(\"user-business.csv\",header = None) #Row: user Column:Business\n",
    "name = pd.read_csv(\"business.csv\", header = None)"
   ]
  },
  {
   "cell_type": "code",
   "execution_count": 3,
   "id": "b168b7e9",
   "metadata": {
    "scrolled": true
   },
   "outputs": [],
   "source": [
    "#Excluding entries of the first 100 businesses\n",
    "tmp = rating.iloc[:,100:]\n",
    "\n",
    "#cosine-similarity between users\n",
    "distance_mx = cosine_similarity(tmp)\n",
    "#We are only interested in cos-sim(x,alex)\n",
    "cos_sim = distance_mx[3]\n",
    "cos_sim = np.delete(cos_sim,3)\n",
    "\n",
    "#Excluding ratings from alex\n",
    "R = rating.drop(3, axis=0)\n",
    "\n",
    "#print(distance_mx.shape)\n",
    "#print(cos_sim.shape)\n",
    "#print(R.shape)\n",
    "\n",
    "#Using the formula provided\n",
    "score = cos_sim.dot(R)"
   ]
  },
  {
   "cell_type": "code",
   "execution_count": 4,
   "id": "342289d7",
   "metadata": {},
   "outputs": [
    {
     "data": {
      "text/html": [
       "<div>\n",
       "<style scoped>\n",
       "    .dataframe tbody tr th:only-of-type {\n",
       "        vertical-align: middle;\n",
       "    }\n",
       "\n",
       "    .dataframe tbody tr th {\n",
       "        vertical-align: top;\n",
       "    }\n",
       "\n",
       "    .dataframe thead th {\n",
       "        text-align: right;\n",
       "    }\n",
       "</style>\n",
       "<table border=\"1\" class=\"dataframe\">\n",
       "  <thead>\n",
       "    <tr style=\"text-align: right;\">\n",
       "      <th></th>\n",
       "      <th>Score</th>\n",
       "      <th>Business Name</th>\n",
       "    </tr>\n",
       "  </thead>\n",
       "  <tbody>\n",
       "    <tr>\n",
       "      <th>7</th>\n",
       "      <td>43.039527</td>\n",
       "      <td>Papi's Cuban &amp; Caribbean Grill</td>\n",
       "    </tr>\n",
       "    <tr>\n",
       "      <th>61</th>\n",
       "      <td>33.598188</td>\n",
       "      <td>Seven Lamps</td>\n",
       "    </tr>\n",
       "    <tr>\n",
       "      <th>16</th>\n",
       "      <td>33.263225</td>\n",
       "      <td>Loca Luna</td>\n",
       "    </tr>\n",
       "    <tr>\n",
       "      <th>39</th>\n",
       "      <td>32.782940</td>\n",
       "      <td>Farm Burger</td>\n",
       "    </tr>\n",
       "    <tr>\n",
       "      <th>3</th>\n",
       "      <td>12.626244</td>\n",
       "      <td>Piece of Cake</td>\n",
       "    </tr>\n",
       "  </tbody>\n",
       "</table>\n",
       "</div>"
      ],
      "text/plain": [
       "        Score                   Business Name\n",
       "7   43.039527  Papi's Cuban & Caribbean Grill\n",
       "61  33.598188                     Seven Lamps\n",
       "16  33.263225                       Loca Luna\n",
       "39  32.782940                     Farm Burger\n",
       "3   12.626244                   Piece of Cake"
      ]
     },
     "execution_count": 4,
     "metadata": {},
     "output_type": "execute_result"
    }
   ],
   "source": [
    "ranking = pd.DataFrame({'Score':score[:100], 'Business Name': np.array(name.iloc[:100,:]).flatten()})\n",
    "ranking = ranking.sort_values(by='Score',ascending=False)\n",
    "ranking.head(5)"
   ]
  },
  {
   "cell_type": "markdown",
   "id": "980634b2",
   "metadata": {},
   "source": [
    "##### Top 5 business: 1. Papi's Cuban & Caribbean Grill (43.04) 2. Seven Lamps (33.60) 3. Loca Luna (33.26) 4. Farm Burger (32.78) 5. Piece of Cake (12.62)"
   ]
  },
  {
   "cell_type": "markdown",
   "id": "a4f992ac",
   "metadata": {},
   "source": [
    "## Part B"
   ]
  },
  {
   "cell_type": "code",
   "execution_count": 5,
   "id": "3bdbe945",
   "metadata": {},
   "outputs": [],
   "source": [
    "#Excluding entries of alex\n",
    "tmp = rating.drop(3,axis=0)\n",
    "#cosine-similarity between businesses\n",
    "distance_mx = cosine_similarity(tmp.T)\n",
    "\n",
    "#We only want alex's rating to business\n",
    "R = np.array(rating.iloc[[3]]).flatten()\n",
    "\n",
    "#print(distance_mx.shape)\n",
    "#print(R.shape)\n",
    "\n",
    "#Using the formula provided\n",
    "score = distance_mx.dot(R)"
   ]
  },
  {
   "cell_type": "code",
   "execution_count": 6,
   "id": "0b4ee32c",
   "metadata": {},
   "outputs": [
    {
     "data": {
      "text/html": [
       "<div>\n",
       "<style scoped>\n",
       "    .dataframe tbody tr th:only-of-type {\n",
       "        vertical-align: middle;\n",
       "    }\n",
       "\n",
       "    .dataframe tbody tr th {\n",
       "        vertical-align: top;\n",
       "    }\n",
       "\n",
       "    .dataframe thead th {\n",
       "        text-align: right;\n",
       "    }\n",
       "</style>\n",
       "<table border=\"1\" class=\"dataframe\">\n",
       "  <thead>\n",
       "    <tr style=\"text-align: right;\">\n",
       "      <th></th>\n",
       "      <th>Score</th>\n",
       "      <th>Business Name</th>\n",
       "    </tr>\n",
       "  </thead>\n",
       "  <tbody>\n",
       "    <tr>\n",
       "      <th>7</th>\n",
       "      <td>6.810937</td>\n",
       "      <td>Papi's Cuban &amp; Caribbean Grill</td>\n",
       "    </tr>\n",
       "    <tr>\n",
       "      <th>39</th>\n",
       "      <td>6.558815</td>\n",
       "      <td>Farm Burger</td>\n",
       "    </tr>\n",
       "    <tr>\n",
       "      <th>61</th>\n",
       "      <td>6.440367</td>\n",
       "      <td>Seven Lamps</td>\n",
       "    </tr>\n",
       "    <tr>\n",
       "      <th>16</th>\n",
       "      <td>5.852681</td>\n",
       "      <td>Loca Luna</td>\n",
       "    </tr>\n",
       "    <tr>\n",
       "      <th>3</th>\n",
       "      <td>3.730178</td>\n",
       "      <td>Piece of Cake</td>\n",
       "    </tr>\n",
       "  </tbody>\n",
       "</table>\n",
       "</div>"
      ],
      "text/plain": [
       "       Score                   Business Name\n",
       "7   6.810937  Papi's Cuban & Caribbean Grill\n",
       "39  6.558815                     Farm Burger\n",
       "61  6.440367                     Seven Lamps\n",
       "16  5.852681                       Loca Luna\n",
       "3   3.730178                   Piece of Cake"
      ]
     },
     "execution_count": 6,
     "metadata": {},
     "output_type": "execute_result"
    }
   ],
   "source": [
    "ranking = pd.DataFrame({'Score':score[:100], 'Business Name': np.array(name.iloc[:100,:]).flatten()})\n",
    "ranking = ranking.sort_values(by='Score',ascending=False)\n",
    "ranking.head(5)"
   ]
  },
  {
   "cell_type": "markdown",
   "id": "33ca97e2",
   "metadata": {},
   "source": [
    "##### Top 5 business: 1. Papi's Cuban & Caribbean Grill (6.81) 2. Farm Burger (6.56) 3. Seven Lamps (6.44) 4. Loca Luna (5.85) 5. Piece of Cake (3.73)"
   ]
  },
  {
   "cell_type": "markdown",
   "id": "801686f6",
   "metadata": {},
   "source": [
    "## Part C"
   ]
  },
  {
   "cell_type": "code",
   "execution_count": 7,
   "id": "3e19e8bd",
   "metadata": {},
   "outputs": [],
   "source": [
    "#Perform SVD, k set to 10\n",
    "u, s, vh = svds(np.array(rating).astype(float),k=10)\n",
    "#Using the formula provided\n",
    "R_mx = u.dot(np.diag(s)).dot(vh)\n",
    "#print(R_mx.shape)\n",
    "score_alex = R_mx[3]"
   ]
  },
  {
   "cell_type": "code",
   "execution_count": 8,
   "id": "49fa8337",
   "metadata": {},
   "outputs": [
    {
     "data": {
      "text/html": [
       "<div>\n",
       "<style scoped>\n",
       "    .dataframe tbody tr th:only-of-type {\n",
       "        vertical-align: middle;\n",
       "    }\n",
       "\n",
       "    .dataframe tbody tr th {\n",
       "        vertical-align: top;\n",
       "    }\n",
       "\n",
       "    .dataframe thead th {\n",
       "        text-align: right;\n",
       "    }\n",
       "</style>\n",
       "<table border=\"1\" class=\"dataframe\">\n",
       "  <thead>\n",
       "    <tr style=\"text-align: right;\">\n",
       "      <th></th>\n",
       "      <th>Score</th>\n",
       "      <th>Business Name</th>\n",
       "    </tr>\n",
       "  </thead>\n",
       "  <tbody>\n",
       "    <tr>\n",
       "      <th>7</th>\n",
       "      <td>1.190506</td>\n",
       "      <td>Papi's Cuban &amp; Caribbean Grill</td>\n",
       "    </tr>\n",
       "    <tr>\n",
       "      <th>16</th>\n",
       "      <td>0.876255</td>\n",
       "      <td>Loca Luna</td>\n",
       "    </tr>\n",
       "    <tr>\n",
       "      <th>39</th>\n",
       "      <td>0.857826</td>\n",
       "      <td>Farm Burger</td>\n",
       "    </tr>\n",
       "    <tr>\n",
       "      <th>61</th>\n",
       "      <td>0.817947</td>\n",
       "      <td>Seven Lamps</td>\n",
       "    </tr>\n",
       "    <tr>\n",
       "      <th>3</th>\n",
       "      <td>0.299354</td>\n",
       "      <td>Piece of Cake</td>\n",
       "    </tr>\n",
       "  </tbody>\n",
       "</table>\n",
       "</div>"
      ],
      "text/plain": [
       "       Score                   Business Name\n",
       "7   1.190506  Papi's Cuban & Caribbean Grill\n",
       "16  0.876255                       Loca Luna\n",
       "39  0.857826                     Farm Burger\n",
       "61  0.817947                     Seven Lamps\n",
       "3   0.299354                   Piece of Cake"
      ]
     },
     "execution_count": 8,
     "metadata": {},
     "output_type": "execute_result"
    }
   ],
   "source": [
    "ranking = pd.DataFrame({'Score':score_alex[:100], 'Business Name': np.array(name.iloc[:100,:]).flatten()})\n",
    "ranking = ranking.sort_values(by='Score',ascending=False)\n",
    "ranking.head(5)"
   ]
  },
  {
   "cell_type": "markdown",
   "id": "eb866713",
   "metadata": {},
   "source": [
    "##### Top 5 business: 1. Papi's Cuban & Caribbean Grill (1.19) 2. Loca Luna (0.88) 3. Farm Burger (0.86) 4. Seven Lamps (0.82) 5. Piece of Cake (0.30)"
   ]
  },
  {
   "cell_type": "markdown",
   "id": "3c4c48bd",
   "metadata": {},
   "source": [
    "## Part D"
   ]
  },
  {
   "cell_type": "code",
   "execution_count": null,
   "id": "a60f9de9",
   "metadata": {},
   "outputs": [],
   "source": []
  }
 ],
 "metadata": {
  "kernelspec": {
   "display_name": "Python 3",
   "language": "python",
   "name": "python3"
  },
  "language_info": {
   "codemirror_mode": {
    "name": "ipython",
    "version": 3
   },
   "file_extension": ".py",
   "mimetype": "text/x-python",
   "name": "python",
   "nbconvert_exporter": "python",
   "pygments_lexer": "ipython3",
   "version": "3.8.8"
  }
 },
 "nbformat": 4,
 "nbformat_minor": 5
}
